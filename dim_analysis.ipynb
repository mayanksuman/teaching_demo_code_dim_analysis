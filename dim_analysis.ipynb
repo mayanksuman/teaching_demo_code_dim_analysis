{
 "cells": [
  {
   "cell_type": "markdown",
   "metadata": {},
   "source": [
    "# Example code for automated dimensional analysis\n",
    "\n",
    "This notebook, provided as example code with `Dimensional Analysis and Similitude`, covers the concept of dimensional analysis, non-dimensional number and Buckingham $\\Pi$ Theorem. The example problem provided in the lecture is also solved here."
   ]
  },
  {
   "cell_type": "code",
   "execution_count": 1,
   "metadata": {},
   "outputs": [],
   "source": [
    "from functools import partial\n",
    "\n",
    "# import library for dimensional analysis\n",
    "import buckinghampy\n",
    "from buckinghampy.parameters import *"
   ]
  },
  {
   "cell_type": "markdown",
   "metadata": {},
   "source": [
    "## Dimensions of some derived physical quantity\n",
    "\n",
    "The loaded library has many physical quantity defined. The dimension and unit of these physical quantities can be printed with the following code. "
   ]
  },
  {
   "cell_type": "code",
   "execution_count": 2,
   "metadata": {},
   "outputs": [
    {
     "name": "stdout",
     "output_type": "stream",
     "text": [
      "L :  {'L': 1} :  {'m': 1}\n",
      "V :  {'L': 3} :  {'m': 3}\n",
      "Q :  {'L': 3, 'T': -1} :  {'m': 3, 's': -1}\n",
      "u :  {'L': 1, 'T': -1} :  {'m': 1, 's': -1}\n",
      "g :  {'L': 1, 'T': -2} :  {'m': 1, 's': -2}\n",
      "K :  {'M': 1, 'L': -1, 'T': -2} :  {'kg': 1, 'm': -1, 's': -2}\n",
      "P :  {'L': -1, 'M': 1, 'T': -2} :  {'m': -1, 'kg': 1, 's': -2}\n"
     ]
    }
   ],
   "source": [
    "for parameter in [length, volume, discharge, velocity, gravity_acceleration, bulk_modulus, pressure]:\n",
    "    print(parameter.symbol, \": \", parameter.dimension, \": \", parameter.units)"
   ]
  },
  {
   "cell_type": "markdown",
   "metadata": {},
   "source": [
    "New physcial quantity can be defined as following:"
   ]
  },
  {
   "cell_type": "code",
   "execution_count": 3,
   "metadata": {},
   "outputs": [
    {
     "data": {
      "text/plain": [
       "{'M': 1, 'L': 1, 'T': -2}"
      ]
     },
     "execution_count": 3,
     "metadata": {},
     "output_type": "execute_result"
    }
   ],
   "source": [
    "force = Parameter(symbol='F', units={'N':1})\n",
    "force.dimension"
   ]
  },
  {
   "cell_type": "markdown",
   "metadata": {},
   "source": [
    "## Non-Dimensional Numbers\n",
    "\n",
    "Non dimensional number from various set of parameters can be calculated using the library. For example, the non-dimensional combination of $\\Delta P$, $\\rho$, $l$ and $Q$ are"
   ]
  },
  {
   "cell_type": "code",
   "execution_count": 4,
   "metadata": {},
   "outputs": [
    {
     "data": {
      "text/latex": [
       "$$\\frac{ \\rho Q^{2}}{ \\Delta P L^{4}}$$"
      ],
      "text/plain": [
       "[<buckinghampy.nondimensional.NondimensionalNumber at 0x7f4f3ac995b0>]"
      ]
     },
     "execution_count": 4,
     "metadata": {},
     "output_type": "execute_result"
    }
   ],
   "source": [
    "del_pressure = pressure\n",
    "del_pressure.symbol = '\\\\Delta P'\n",
    "parameters = [del_pressure, density, length, discharge]\n",
    "nondimensional_numbers = buckinghampy.find_nondimensional_numbers(parameters)\n",
    "nondimensional_numbers"
   ]
  },
  {
   "cell_type": "markdown",
   "metadata": {},
   "source": [
    "Similarly, other well known non-dimensional numbers can be calculated by using involved parameters.\n",
    "\n",
    "### Reynolds Number\n",
    "\n",
    "Reynolds number is ratio of inertial force to viscous force."
   ]
  },
  {
   "cell_type": "code",
   "execution_count": 5,
   "metadata": {},
   "outputs": [
    {
     "data": {
      "text/latex": [
       "$$\\frac{ u \\rho L}{ \\mu}$$"
      ],
      "text/plain": [
       "[<buckinghampy.nondimensional.NondimensionalNumber at 0x7f4f3ac86bb0>]"
      ]
     },
     "execution_count": 5,
     "metadata": {},
     "output_type": "execute_result"
    }
   ],
   "source": [
    "find_nondim_num = partial(buckinghampy.find_nondimensional_numbers, basis_parameter=velocity)\n",
    "parameters = [density, length, velocity, viscosity]\n",
    "Re = find_nondim_num(parameters)\n",
    "Re"
   ]
  },
  {
   "cell_type": "markdown",
   "metadata": {},
   "source": [
    "### Froude Number\n",
    "\n",
    "Square root of ratio of inertial force and gravity."
   ]
  },
  {
   "cell_type": "code",
   "execution_count": 6,
   "metadata": {},
   "outputs": [
    {
     "data": {
      "text/latex": [
       "$$\\frac{ u}{ \\sqrt{L} \\sqrt{g}}$$"
      ],
      "text/plain": [
       "[<buckinghampy.nondimensional.NondimensionalNumber at 0x7f4f3acad5b0>]"
      ]
     },
     "execution_count": 6,
     "metadata": {},
     "output_type": "execute_result"
    }
   ],
   "source": [
    "parameters = [length, velocity, gravity_acceleration]\n",
    "Fr = find_nondim_num(parameters)\n",
    "Fr"
   ]
  },
  {
   "cell_type": "markdown",
   "metadata": {},
   "source": [
    "### Euler Number\n",
    "\n",
    "Square root of ratio of inertial force and pressure force."
   ]
  },
  {
   "cell_type": "code",
   "execution_count": 7,
   "metadata": {},
   "outputs": [
    {
     "data": {
      "text/latex": [
       "$$\\frac{ u \\sqrt{\\rho}}{ \\sqrt{\\Delta P}}$$"
      ],
      "text/plain": [
       "[<buckinghampy.nondimensional.NondimensionalNumber at 0x7f4f508bc3a0>]"
      ]
     },
     "execution_count": 7,
     "metadata": {},
     "output_type": "execute_result"
    }
   ],
   "source": [
    "parameters = [del_pressure, velocity, density]\n",
    "Eu = find_nondim_num(parameters)\n",
    "Eu"
   ]
  },
  {
   "cell_type": "markdown",
   "metadata": {},
   "source": [
    "### Mach Number\n",
    "\n",
    "Ratio of inertial force to elastic force."
   ]
  },
  {
   "cell_type": "code",
   "execution_count": 8,
   "metadata": {},
   "outputs": [
    {
     "data": {
      "text/latex": [
       "$$\\frac{ u \\sqrt{\\rho}}{ \\sqrt{K}}$$"
      ],
      "text/plain": [
       "[<buckinghampy.nondimensional.NondimensionalNumber at 0x7f4f3aca5d30>]"
      ]
     },
     "execution_count": 8,
     "metadata": {},
     "output_type": "execute_result"
    }
   ],
   "source": [
    "parameters = [velocity, bulk_modulus, density]\n",
    "M = find_nondim_num(parameters)\n",
    "M"
   ]
  },
  {
   "cell_type": "markdown",
   "metadata": {},
   "source": [
    "### Weber Number\n",
    "\n",
    "Square root of ratio of inertial force and surface-tension force."
   ]
  },
  {
   "cell_type": "code",
   "execution_count": 9,
   "metadata": {},
   "outputs": [
    {
     "data": {
      "text/latex": [
       "$$\\frac{ u \\sqrt{\\rho} \\sqrt{L}}{ \\sqrt{\\sigma}}$$"
      ],
      "text/plain": [
       "[<buckinghampy.nondimensional.NondimensionalNumber at 0x7f4f3acadcd0>]"
      ]
     },
     "execution_count": 9,
     "metadata": {},
     "output_type": "execute_result"
    }
   ],
   "source": [
    "parameters = [surface_tension, velocity, density, length]\n",
    "We = find_nondim_num(parameters)\n",
    "We"
   ]
  },
  {
   "cell_type": "markdown",
   "metadata": {},
   "source": [
    "## Sample Examples on Buckingham $\\Pi$ Theorem.\n",
    "\n",
    "**Buckingham $\\Pi$ Theorem** states:\n",
    "\n",
    "> In a physical problem involving $n$ physical quantities with $m$ dimensions, the physical quantities can be arranged in $n-m$ non-dimensional parameters (say $\\Pi_1, \\Pi_2,\\ldots\\Pi_{n-m}$).} The relationship can between physical quantities can be expressed as\n",
    "\n",
    "$$f\\left(\\Pi_1, \\Pi_2,\\ldots\\Pi_{n-m}\\right) = 0 \\qquad\\text{or}\\qquad \\Pi_p =f_1\\left(\\Pi_1, \\Pi_2,\\ldots \\Pi_{p-1}, \\Pi_{p+1}\\ldots\\Pi_{n-m}\\right)$$\n",
    "\n",
    "***Example 1***: For a laminar flow through horizonal pipe, the discharge ($Q$) is dependent upon pressure gradient ($\\Delta P/l$), dynamic viscosity of fluid ($\\mu$) and diameter of pipe ($D$). Estimate the form of relationship?"
   ]
  },
  {
   "cell_type": "code",
   "execution_count": 10,
   "metadata": {},
   "outputs": [
    {
     "data": {
      "text/latex": [
       "$$\\frac{ \\mu Q}{ \\Delta P/l D^{4}}$$"
      ],
      "text/plain": [
       "[<buckinghampy.nondimensional.NondimensionalNumber at 0x7f4f3ac358e0>]"
      ]
     },
     "execution_count": 10,
     "metadata": {},
     "output_type": "execute_result"
    }
   ],
   "source": [
    "del_pressure_l = del_pressure/length\n",
    "del_pressure_l.symbol = '\\\\Delta P/l'\n",
    "diameter = Parameter('D', {'m':1})\n",
    "parameters = [del_pressure_l, diameter, viscosity, discharge]\n",
    "Pis = buckinghampy.find_nondimensional_numbers(parameters)\n",
    "Pis"
   ]
  },
  {
   "cell_type": "markdown",
   "metadata": {},
   "source": [
    "This non-dimensional number can be used for estimate the relationship form, which is\n",
    "\n",
    "$$Q=C\\frac{\\Delta P}{l}\\frac{D^4}{\\mu}$$\n",
    "\n",
    "This is a well relationship with $C=\\pi/128$. \n",
    "\n",
    "**Before using dimensional analysis to derive the relationship, the variables/involved should be known.** To illustrate this, repeat the previous example by assuming that the flow is dependent upon kinematic viscosity ($\\nu$) instead of dynamic visocity ($\\mu$). All other factors (on which flow depends) remain the same."
   ]
  },
  {
   "cell_type": "code",
   "execution_count": 11,
   "metadata": {},
   "outputs": [
    {
     "data": {
      "text/latex": [
       "$$\\frac{ Q}{ D \\nu}$$"
      ],
      "text/plain": [
       "[<buckinghampy.nondimensional.NondimensionalNumber at 0x7f4f3aca5640>]"
      ]
     },
     "execution_count": 11,
     "metadata": {},
     "output_type": "execute_result"
    }
   ],
   "source": [
    "parameters = [del_pressure_l, diameter, kinematic_viscosity, discharge]\n",
    "Pis = buckinghampy.find_nondimensional_numbers(parameters)\n",
    "Pis"
   ]
  },
  {
   "cell_type": "markdown",
   "metadata": {},
   "source": [
    "The non-dimensional number obtained here, suggests that the relationship should be \n",
    "$$Q=C_1D\\nu$$\n",
    "which is wrong and do not reflect the correct relationship for this flow phenomenon (flow through pipe)."
   ]
  },
  {
   "cell_type": "markdown",
   "metadata": {},
   "source": [
    "***Example 2***: Discharge ($Q$) from a rectangular weir (non-submerged) is dependent upon head over weir ($H$) and length of weir ($l$). In general, flow should also depend upon acceleration due to gravity ($g$) and approch velocity ($u$). Find all non-dimensional ratios associated with this phenomenon. \n",
    "\n",
    "![](images/rectangular_weir.png)"
   ]
  },
  {
   "cell_type": "code",
   "execution_count": 12,
   "metadata": {},
   "outputs": [
    {
     "data": {
      "text/latex": [
       "$$\\frac{ b}{ H}, \\frac{ Q^{2}}{ g H^{5}}, \\frac{ u^{2}}{ g H}$$"
      ],
      "text/plain": [
       "[<buckinghampy.nondimensional.NondimensionalNumber at 0x7f4f3acadee0>,\n",
       " <buckinghampy.nondimensional.NondimensionalNumber at 0x7f4f3acad7c0>,\n",
       " <buckinghampy.nondimensional.NondimensionalNumber at 0x7f4f3acad220>]"
      ]
     },
     "execution_count": 12,
     "metadata": {},
     "output_type": "execute_result"
    }
   ],
   "source": [
    "weir_length = length.copy()\n",
    "weir_length.symbol = 'b'\n",
    "weir_head = head.copy()\n",
    "weir_head.symbol = 'H'\n",
    "parameters = [gravity_acceleration, weir_head, weir_length, discharge, velocity]\n",
    "Pis = buckinghampy.find_nondimensional_numbers(parameters)\n",
    "Pis"
   ]
  },
  {
   "cell_type": "markdown",
   "metadata": {},
   "source": [
    "***Example 3***: Discharge ($Q$) from a V-notch weir (non-submerged) is dependent upon head over weir ($H$) and notch angle $(\\theta)$. n general, flow should also depend upon acceleration due to gravity ($g$) and approch velocity ($u$). Find all non-dimensional ratios associated with this phenomenon. \n",
    "\n",
    "![](images/v-notch_weir.png)"
   ]
  },
  {
   "cell_type": "code",
   "execution_count": 13,
   "metadata": {},
   "outputs": [
    {
     "data": {
      "text/latex": [
       "$$ \\theta, \\frac{ Q^{2}}{ g H^{5}}, \\frac{ u^{2}}{ g H}$$"
      ],
      "text/plain": [
       "[<buckinghampy.nondimensional.NondimensionalNumber at 0x7f4f3ac354c0>,\n",
       " <buckinghampy.nondimensional.NondimensionalNumber at 0x7f4f3ac35340>,\n",
       " <buckinghampy.nondimensional.NondimensionalNumber at 0x7f4f3ac35f10>]"
      ]
     },
     "execution_count": 13,
     "metadata": {},
     "output_type": "execute_result"
    }
   ],
   "source": [
    "notch_angle = angle.copy()\n",
    "notch_angle.symbol = '\\\\theta'\n",
    "parameters = [gravity_acceleration, weir_head, notch_angle, discharge, velocity]\n",
    "Pis = buckinghampy.find_nondimensional_numbers(parameters)\n",
    "Pis"
   ]
  },
  {
   "cell_type": "markdown",
   "metadata": {},
   "source": [
    "***Example 4***: The loss $\\Delta P/l$ in laminar flow through smooth horizonal pipe is experimentally found to depend upon velocity ($u$), diameter of pipe ($D$), density of fluid ($\\rho$) and dynamic viscosity $(\\mu)$. Find all non-dimensional ratios associated with this phenomenon. "
   ]
  },
  {
   "cell_type": "code",
   "execution_count": 14,
   "metadata": {},
   "outputs": [
    {
     "data": {
      "text/latex": [
       "$$\\frac{ u \\mu}{ \\Delta P/l D^{2}}, \\frac{ u^{2} \\rho}{ \\Delta P/l D}$$"
      ],
      "text/plain": [
       "[<buckinghampy.nondimensional.NondimensionalNumber at 0x7f4f3aca5af0>,\n",
       " <buckinghampy.nondimensional.NondimensionalNumber at 0x7f4f3aca5f10>]"
      ]
     },
     "execution_count": 14,
     "metadata": {},
     "output_type": "execute_result"
    }
   ],
   "source": [
    "parameters = [del_pressure_l, velocity, diameter, viscosity, density]\n",
    "Pis = buckinghampy.find_nondimensional_numbers(parameters)\n",
    "Pis"
   ]
  }
 ],
 "metadata": {
  "kernelspec": {
   "display_name": "Python [conda env:num_python]",
   "language": "python",
   "name": "conda-env-num_python-py"
  },
  "language_info": {
   "codemirror_mode": {
    "name": "ipython",
    "version": 3
   },
   "file_extension": ".py",
   "mimetype": "text/x-python",
   "name": "python",
   "nbconvert_exporter": "python",
   "pygments_lexer": "ipython3",
   "version": "3.9.1"
  }
 },
 "nbformat": 4,
 "nbformat_minor": 4
}
